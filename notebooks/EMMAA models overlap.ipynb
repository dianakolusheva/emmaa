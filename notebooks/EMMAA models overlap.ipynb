{
 "cells": [
  {
   "cell_type": "markdown",
   "metadata": {},
   "source": [
    "# Analysis of EMMAA models and BEL corpus tests"
   ]
  },
  {
   "cell_type": "code",
   "execution_count": 1,
   "metadata": {},
   "outputs": [
    {
     "name": "stderr",
     "output_type": "stream",
     "text": [
      "INFO: [2019-11-27 15:29:04] indra.preassembler.grounding_mapper.adeft - Adeft will not be available for grounding disambiguation.\n",
      "INFO: [2019-11-27 15:29:04] pybel.config - no configuration found, using default sqlite connection sqlite:////Users/dianakolusheva/.pybel/pybel_0.13.0_cache.db\n"
     ]
    }
   ],
   "source": [
    "import pandas as pd\n",
    "import json\n",
    "import jsonpickle\n",
    "import matplotlib.pyplot as plt\n",
    "%matplotlib inline\n",
    "from indra.statements import Statement\n",
    "from emmaa.model_tests import load_tests_from_s3\n",
    "from emmaa.util import find_latest_s3_file, get_s3_client\n",
    "from collections import defaultdict"
   ]
  },
  {
   "cell_type": "code",
   "execution_count": 2,
   "metadata": {
    "scrolled": true
   },
   "outputs": [
    {
     "name": "stderr",
     "output_type": "stream",
     "text": [
      "INFO: [2019-11-27 15:29:05] emmaa.model_tests - Loading tests from tests/large_corpus_tests.pkl\n"
     ]
    }
   ],
   "source": [
    "tests = load_tests_from_s3('large_corpus_tests.pkl')\n",
    "test_stmts = [test.stmt for test in tests]"
   ]
  },
  {
   "cell_type": "code",
   "execution_count": 3,
   "metadata": {},
   "outputs": [],
   "source": [
    "models = ['aml', 'brca', 'luad', 'marm_model', 'paad', 'painmachine', 'prad', 'rasmachine', 'rasmodel', 'skcm']"
   ]
  },
  {
   "cell_type": "markdown",
   "metadata": {},
   "source": [
    "## Applied tests"
   ]
  },
  {
   "cell_type": "markdown",
   "metadata": {},
   "source": [
    "We start with a dataframe containing all test statements and their hashes."
   ]
  },
  {
   "cell_type": "code",
   "execution_count": 4,
   "metadata": {},
   "outputs": [],
   "source": [
    "all_tests = defaultdict(list)\n",
    "for stmt in test_stmts:\n",
    "    all_tests['Stmt_hash'].append(stmt.get_hash(refresh=True))\n",
    "    all_tests['Stmt'].append(stmt)"
   ]
  },
  {
   "cell_type": "code",
   "execution_count": 5,
   "metadata": {},
   "outputs": [],
   "source": [
    "df = pd.DataFrame(all_tests)\n",
    "df = df.set_index('Stmt_hash')"
   ]
  },
  {
   "cell_type": "markdown",
   "metadata": {},
   "source": [
    "Add columns showing whether the test was applied to every particular model."
   ]
  },
  {
   "cell_type": "code",
   "execution_count": 6,
   "metadata": {},
   "outputs": [],
   "source": [
    "def get_applied_tests_from_model(model_name):\n",
    "    key = find_latest_s3_file('emmaa', f'results/{model_name}/results_', extension='.json')\n",
    "    client = get_s3_client()\n",
    "    obj = client.get_object(Bucket='emmaa', Key=key)\n",
    "    json_results = json.loads(obj['Body'].read().decode('utf8'))\n",
    "    test_stmts = [Statement._from_json(res['test_json']) for res in json_results[1:]]\n",
    "    model_tests = defaultdict(list)\n",
    "    for i, stmt in enumerate(test_stmts):\n",
    "        model_tests['Stmt_hash'].append(stmt.get_hash(refresh=True))\n",
    "        # Column to keep applied tests the rest will be willed with NaN at join\n",
    "        model_tests[model_name].append(True)\n",
    "    return pd.DataFrame(model_tests)"
   ]
  },
  {
   "cell_type": "code",
   "execution_count": 7,
   "metadata": {},
   "outputs": [],
   "source": [
    "for model in models:\n",
    "    model_df = get_applied_tests_from_model(model)\n",
    "    df = df.join(model_df.set_index('Stmt_hash'))"
   ]
  },
  {
   "cell_type": "code",
   "execution_count": 8,
   "metadata": {},
   "outputs": [
    {
     "data": {
      "text/plain": [
       "46534"
      ]
     },
     "execution_count": 8,
     "metadata": {},
     "output_type": "execute_result"
    }
   ],
   "source": [
    "len(df)"
   ]
  },
  {
   "cell_type": "code",
   "execution_count": 9,
   "metadata": {},
   "outputs": [],
   "source": [
    "df['not_nulls'] = 10 - df.isnull().sum(axis=1)"
   ]
  },
  {
   "cell_type": "code",
   "execution_count": 10,
   "metadata": {},
   "outputs": [
    {
     "data": {
      "text/html": [
       "<div>\n",
       "<style scoped>\n",
       "    .dataframe tbody tr th:only-of-type {\n",
       "        vertical-align: middle;\n",
       "    }\n",
       "\n",
       "    .dataframe tbody tr th {\n",
       "        vertical-align: top;\n",
       "    }\n",
       "\n",
       "    .dataframe thead th {\n",
       "        text-align: right;\n",
       "    }\n",
       "</style>\n",
       "<table border=\"1\" class=\"dataframe\">\n",
       "  <thead>\n",
       "    <tr style=\"text-align: right;\">\n",
       "      <th></th>\n",
       "      <th>Stmt</th>\n",
       "      <th>aml</th>\n",
       "      <th>brca</th>\n",
       "      <th>luad</th>\n",
       "      <th>marm_model</th>\n",
       "      <th>paad</th>\n",
       "      <th>painmachine</th>\n",
       "      <th>prad</th>\n",
       "      <th>rasmachine</th>\n",
       "      <th>rasmodel</th>\n",
       "      <th>skcm</th>\n",
       "      <th>not_nulls</th>\n",
       "    </tr>\n",
       "    <tr>\n",
       "      <th>Stmt_hash</th>\n",
       "      <th></th>\n",
       "      <th></th>\n",
       "      <th></th>\n",
       "      <th></th>\n",
       "      <th></th>\n",
       "      <th></th>\n",
       "      <th></th>\n",
       "      <th></th>\n",
       "      <th></th>\n",
       "      <th></th>\n",
       "      <th></th>\n",
       "      <th></th>\n",
       "    </tr>\n",
       "  </thead>\n",
       "  <tbody>\n",
       "    <tr>\n",
       "      <th>-14857780471372827</th>\n",
       "      <td>Acetylation(BCL11B(), Histone_H3())</td>\n",
       "      <td>NaN</td>\n",
       "      <td>NaN</td>\n",
       "      <td>NaN</td>\n",
       "      <td>NaN</td>\n",
       "      <td>NaN</td>\n",
       "      <td>NaN</td>\n",
       "      <td>NaN</td>\n",
       "      <td>NaN</td>\n",
       "      <td>NaN</td>\n",
       "      <td>NaN</td>\n",
       "      <td>0</td>\n",
       "    </tr>\n",
       "    <tr>\n",
       "      <th>24364866633469333</th>\n",
       "      <td>Acetylation(BCL11B(), Histone_H4())</td>\n",
       "      <td>NaN</td>\n",
       "      <td>NaN</td>\n",
       "      <td>NaN</td>\n",
       "      <td>NaN</td>\n",
       "      <td>NaN</td>\n",
       "      <td>NaN</td>\n",
       "      <td>NaN</td>\n",
       "      <td>NaN</td>\n",
       "      <td>NaN</td>\n",
       "      <td>NaN</td>\n",
       "      <td>0</td>\n",
       "    </tr>\n",
       "    <tr>\n",
       "      <th>4247092595943875</th>\n",
       "      <td>Acetylation(BRMS1(), RELA(), K, 310)</td>\n",
       "      <td>NaN</td>\n",
       "      <td>NaN</td>\n",
       "      <td>NaN</td>\n",
       "      <td>NaN</td>\n",
       "      <td>NaN</td>\n",
       "      <td>True</td>\n",
       "      <td>NaN</td>\n",
       "      <td>NaN</td>\n",
       "      <td>NaN</td>\n",
       "      <td>NaN</td>\n",
       "      <td>1</td>\n",
       "    </tr>\n",
       "    <tr>\n",
       "      <th>-6015131980736417</th>\n",
       "      <td>Acetylation(Ep300(catalytic), FOXO())</td>\n",
       "      <td>NaN</td>\n",
       "      <td>NaN</td>\n",
       "      <td>NaN</td>\n",
       "      <td>NaN</td>\n",
       "      <td>NaN</td>\n",
       "      <td>NaN</td>\n",
       "      <td>NaN</td>\n",
       "      <td>NaN</td>\n",
       "      <td>NaN</td>\n",
       "      <td>NaN</td>\n",
       "      <td>0</td>\n",
       "    </tr>\n",
       "    <tr>\n",
       "      <th>20956577376511618</th>\n",
       "      <td>Acetylation(HDAC(catalytic), Histone_H2A())</td>\n",
       "      <td>NaN</td>\n",
       "      <td>NaN</td>\n",
       "      <td>NaN</td>\n",
       "      <td>NaN</td>\n",
       "      <td>NaN</td>\n",
       "      <td>NaN</td>\n",
       "      <td>NaN</td>\n",
       "      <td>NaN</td>\n",
       "      <td>NaN</td>\n",
       "      <td>NaN</td>\n",
       "      <td>0</td>\n",
       "    </tr>\n",
       "  </tbody>\n",
       "</table>\n",
       "</div>"
      ],
      "text/plain": [
       "                                                           Stmt  aml brca  \\\n",
       "Stmt_hash                                                                   \n",
       "-14857780471372827          Acetylation(BCL11B(), Histone_H3())  NaN  NaN   \n",
       " 24364866633469333          Acetylation(BCL11B(), Histone_H4())  NaN  NaN   \n",
       " 4247092595943875          Acetylation(BRMS1(), RELA(), K, 310)  NaN  NaN   \n",
       "-6015131980736417         Acetylation(Ep300(catalytic), FOXO())  NaN  NaN   \n",
       " 20956577376511618  Acetylation(HDAC(catalytic), Histone_H2A())  NaN  NaN   \n",
       "\n",
       "                   luad marm_model paad painmachine prad rasmachine rasmodel  \\\n",
       "Stmt_hash                                                                      \n",
       "-14857780471372827  NaN        NaN  NaN         NaN  NaN        NaN      NaN   \n",
       " 24364866633469333  NaN        NaN  NaN         NaN  NaN        NaN      NaN   \n",
       " 4247092595943875   NaN        NaN  NaN        True  NaN        NaN      NaN   \n",
       "-6015131980736417   NaN        NaN  NaN         NaN  NaN        NaN      NaN   \n",
       " 20956577376511618  NaN        NaN  NaN         NaN  NaN        NaN      NaN   \n",
       "\n",
       "                   skcm  not_nulls  \n",
       "Stmt_hash                           \n",
       "-14857780471372827  NaN          0  \n",
       " 24364866633469333  NaN          0  \n",
       " 4247092595943875   NaN          1  \n",
       "-6015131980736417   NaN          0  \n",
       " 20956577376511618  NaN          0  "
      ]
     },
     "execution_count": 10,
     "metadata": {},
     "output_type": "execute_result"
    }
   ],
   "source": [
    "df.head()"
   ]
  },
  {
   "cell_type": "markdown",
   "metadata": {},
   "source": [
    "We can find the tests applied to at least one model by filtering the rows to those having at least one not NaN value."
   ]
  },
  {
   "cell_type": "code",
   "execution_count": 11,
   "metadata": {},
   "outputs": [],
   "source": [
    "applied_df = df[df['not_nulls'] > 0]"
   ]
  },
  {
   "cell_type": "code",
   "execution_count": 12,
   "metadata": {
    "scrolled": true
   },
   "outputs": [
    {
     "data": {
      "text/plain": [
       "7623"
      ]
     },
     "execution_count": 12,
     "metadata": {},
     "output_type": "execute_result"
    }
   ],
   "source": [
    "len(applied_df)"
   ]
  },
  {
   "cell_type": "code",
   "execution_count": 13,
   "metadata": {},
   "outputs": [
    {
     "data": {
      "text/html": [
       "<div>\n",
       "<style scoped>\n",
       "    .dataframe tbody tr th:only-of-type {\n",
       "        vertical-align: middle;\n",
       "    }\n",
       "\n",
       "    .dataframe tbody tr th {\n",
       "        vertical-align: top;\n",
       "    }\n",
       "\n",
       "    .dataframe thead th {\n",
       "        text-align: right;\n",
       "    }\n",
       "</style>\n",
       "<table border=\"1\" class=\"dataframe\">\n",
       "  <thead>\n",
       "    <tr style=\"text-align: right;\">\n",
       "      <th></th>\n",
       "      <th>Stmt</th>\n",
       "      <th>aml</th>\n",
       "      <th>brca</th>\n",
       "      <th>luad</th>\n",
       "      <th>marm_model</th>\n",
       "      <th>paad</th>\n",
       "      <th>painmachine</th>\n",
       "      <th>prad</th>\n",
       "      <th>rasmachine</th>\n",
       "      <th>rasmodel</th>\n",
       "      <th>skcm</th>\n",
       "      <th>not_nulls</th>\n",
       "    </tr>\n",
       "    <tr>\n",
       "      <th>Stmt_hash</th>\n",
       "      <th></th>\n",
       "      <th></th>\n",
       "      <th></th>\n",
       "      <th></th>\n",
       "      <th></th>\n",
       "      <th></th>\n",
       "      <th></th>\n",
       "      <th></th>\n",
       "      <th></th>\n",
       "      <th></th>\n",
       "      <th></th>\n",
       "      <th></th>\n",
       "    </tr>\n",
       "  </thead>\n",
       "  <tbody>\n",
       "    <tr>\n",
       "      <th>4247092595943875</th>\n",
       "      <td>Acetylation(BRMS1(), RELA(), K, 310)</td>\n",
       "      <td>NaN</td>\n",
       "      <td>NaN</td>\n",
       "      <td>NaN</td>\n",
       "      <td>NaN</td>\n",
       "      <td>NaN</td>\n",
       "      <td>True</td>\n",
       "      <td>NaN</td>\n",
       "      <td>NaN</td>\n",
       "      <td>NaN</td>\n",
       "      <td>NaN</td>\n",
       "      <td>1</td>\n",
       "    </tr>\n",
       "    <tr>\n",
       "      <th>1389090038363257</th>\n",
       "      <td>Acetylation(HDAC(catalytic), Histone_H2B())</td>\n",
       "      <td>NaN</td>\n",
       "      <td>True</td>\n",
       "      <td>NaN</td>\n",
       "      <td>NaN</td>\n",
       "      <td>NaN</td>\n",
       "      <td>True</td>\n",
       "      <td>NaN</td>\n",
       "      <td>NaN</td>\n",
       "      <td>NaN</td>\n",
       "      <td>NaN</td>\n",
       "      <td>2</td>\n",
       "    </tr>\n",
       "    <tr>\n",
       "      <th>-4690909190760849</th>\n",
       "      <td>Acetylation(SIRT1(catalytic), FOXO(), K)</td>\n",
       "      <td>NaN</td>\n",
       "      <td>True</td>\n",
       "      <td>NaN</td>\n",
       "      <td>NaN</td>\n",
       "      <td>NaN</td>\n",
       "      <td>NaN</td>\n",
       "      <td>NaN</td>\n",
       "      <td>NaN</td>\n",
       "      <td>NaN</td>\n",
       "      <td>NaN</td>\n",
       "      <td>1</td>\n",
       "    </tr>\n",
       "    <tr>\n",
       "      <th>-12903825413742202</th>\n",
       "      <td>Acetylation(SIRT1(catalytic), Histone_H1())</td>\n",
       "      <td>NaN</td>\n",
       "      <td>NaN</td>\n",
       "      <td>NaN</td>\n",
       "      <td>NaN</td>\n",
       "      <td>NaN</td>\n",
       "      <td>True</td>\n",
       "      <td>NaN</td>\n",
       "      <td>NaN</td>\n",
       "      <td>NaN</td>\n",
       "      <td>NaN</td>\n",
       "      <td>1</td>\n",
       "    </tr>\n",
       "    <tr>\n",
       "      <th>-33355740378841523</th>\n",
       "      <td>Acetylation(SIRT1(catalytic), Histone_H3(), K, 9)</td>\n",
       "      <td>NaN</td>\n",
       "      <td>NaN</td>\n",
       "      <td>NaN</td>\n",
       "      <td>NaN</td>\n",
       "      <td>NaN</td>\n",
       "      <td>True</td>\n",
       "      <td>NaN</td>\n",
       "      <td>NaN</td>\n",
       "      <td>NaN</td>\n",
       "      <td>NaN</td>\n",
       "      <td>1</td>\n",
       "    </tr>\n",
       "  </tbody>\n",
       "</table>\n",
       "</div>"
      ],
      "text/plain": [
       "                                                                 Stmt  aml  \\\n",
       "Stmt_hash                                                                    \n",
       " 4247092595943875                Acetylation(BRMS1(), RELA(), K, 310)  NaN   \n",
       " 1389090038363257         Acetylation(HDAC(catalytic), Histone_H2B())  NaN   \n",
       "-4690909190760849            Acetylation(SIRT1(catalytic), FOXO(), K)  NaN   \n",
       "-12903825413742202        Acetylation(SIRT1(catalytic), Histone_H1())  NaN   \n",
       "-33355740378841523  Acetylation(SIRT1(catalytic), Histone_H3(), K, 9)  NaN   \n",
       "\n",
       "                    brca luad marm_model paad painmachine prad rasmachine  \\\n",
       "Stmt_hash                                                                   \n",
       " 4247092595943875    NaN  NaN        NaN  NaN        True  NaN        NaN   \n",
       " 1389090038363257   True  NaN        NaN  NaN        True  NaN        NaN   \n",
       "-4690909190760849   True  NaN        NaN  NaN         NaN  NaN        NaN   \n",
       "-12903825413742202   NaN  NaN        NaN  NaN        True  NaN        NaN   \n",
       "-33355740378841523   NaN  NaN        NaN  NaN        True  NaN        NaN   \n",
       "\n",
       "                   rasmodel skcm  not_nulls  \n",
       "Stmt_hash                                    \n",
       " 4247092595943875       NaN  NaN          1  \n",
       " 1389090038363257       NaN  NaN          2  \n",
       "-4690909190760849       NaN  NaN          1  \n",
       "-12903825413742202      NaN  NaN          1  \n",
       "-33355740378841523      NaN  NaN          1  "
      ]
     },
     "execution_count": 13,
     "metadata": {},
     "output_type": "execute_result"
    }
   ],
   "source": [
    "applied_df.head()"
   ]
  },
  {
   "cell_type": "markdown",
   "metadata": {},
   "source": [
    "For further analysis we can use just tests that have been applied to at least one model."
   ]
  },
  {
   "cell_type": "code",
   "execution_count": 14,
   "metadata": {},
   "outputs": [],
   "source": [
    "counts = applied_df.groupby('not_nulls').Stmt.count()"
   ]
  },
  {
   "cell_type": "code",
   "execution_count": 15,
   "metadata": {},
   "outputs": [
    {
     "data": {
      "text/plain": [
       "not_nulls\n",
       "1     5305\n",
       "2     1267\n",
       "3      471\n",
       "4      272\n",
       "5      130\n",
       "6       73\n",
       "7       34\n",
       "8       67\n",
       "10       4\n",
       "Name: Stmt, dtype: int64"
      ]
     },
     "execution_count": 15,
     "metadata": {},
     "output_type": "execute_result"
    }
   ],
   "source": [
    "counts"
   ]
  },
  {
   "cell_type": "code",
   "execution_count": 47,
   "metadata": {},
   "outputs": [
    {
     "data": {
      "image/png": "[encoded data removed]",
      "text/plain": [
       "<Figure size 432x288 with 1 Axes>"
      ]
     },
     "metadata": {
      "needs_background": "light"
     },
     "output_type": "display_data"
    }
   ],
   "source": [
    "fig, ax = plt.subplots()\n",
    "ax.barh(counts.index, counts)\n",
    "ax.set_yticks(counts.index)\n",
    "plt.title('Number of tests applied to a specific number of models')\n",
    "plt.show()"
   ]
  },
  {
   "cell_type": "code",
   "execution_count": null,
   "metadata": {},
   "outputs": [],
   "source": []
  },
  {
   "cell_type": "code",
   "execution_count": 17,
   "metadata": {},
   "outputs": [],
   "source": [
    "applied_stmts = applied_df[['Stmt']].copy()"
   ]
  },
  {
   "cell_type": "code",
   "execution_count": 18,
   "metadata": {},
   "outputs": [
    {
     "data": {
      "text/html": [
       "<div>\n",
       "<style scoped>\n",
       "    .dataframe tbody tr th:only-of-type {\n",
       "        vertical-align: middle;\n",
       "    }\n",
       "\n",
       "    .dataframe tbody tr th {\n",
       "        vertical-align: top;\n",
       "    }\n",
       "\n",
       "    .dataframe thead th {\n",
       "        text-align: right;\n",
       "    }\n",
       "</style>\n",
       "<table border=\"1\" class=\"dataframe\">\n",
       "  <thead>\n",
       "    <tr style=\"text-align: right;\">\n",
       "      <th></th>\n",
       "      <th>Stmt</th>\n",
       "    </tr>\n",
       "    <tr>\n",
       "      <th>Stmt_hash</th>\n",
       "      <th></th>\n",
       "    </tr>\n",
       "  </thead>\n",
       "  <tbody>\n",
       "    <tr>\n",
       "      <th>4247092595943875</th>\n",
       "      <td>Acetylation(BRMS1(), RELA(), K, 310)</td>\n",
       "    </tr>\n",
       "    <tr>\n",
       "      <th>1389090038363257</th>\n",
       "      <td>Acetylation(HDAC(catalytic), Histone_H2B())</td>\n",
       "    </tr>\n",
       "    <tr>\n",
       "      <th>-4690909190760849</th>\n",
       "      <td>Acetylation(SIRT1(catalytic), FOXO(), K)</td>\n",
       "    </tr>\n",
       "    <tr>\n",
       "      <th>-12903825413742202</th>\n",
       "      <td>Acetylation(SIRT1(catalytic), Histone_H1())</td>\n",
       "    </tr>\n",
       "    <tr>\n",
       "      <th>-33355740378841523</th>\n",
       "      <td>Acetylation(SIRT1(catalytic), Histone_H3(), K, 9)</td>\n",
       "    </tr>\n",
       "  </tbody>\n",
       "</table>\n",
       "</div>"
      ],
      "text/plain": [
       "                                                                 Stmt\n",
       "Stmt_hash                                                            \n",
       " 4247092595943875                Acetylation(BRMS1(), RELA(), K, 310)\n",
       " 1389090038363257         Acetylation(HDAC(catalytic), Histone_H2B())\n",
       "-4690909190760849            Acetylation(SIRT1(catalytic), FOXO(), K)\n",
       "-12903825413742202        Acetylation(SIRT1(catalytic), Histone_H1())\n",
       "-33355740378841523  Acetylation(SIRT1(catalytic), Histone_H3(), K, 9)"
      ]
     },
     "execution_count": 18,
     "metadata": {},
     "output_type": "execute_result"
    }
   ],
   "source": [
    "applied_stmts.head()"
   ]
  },
  {
   "cell_type": "markdown",
   "metadata": {},
   "source": [
    "## Tests passed for each model and model type"
   ]
  },
  {
   "cell_type": "code",
   "execution_count": 19,
   "metadata": {},
   "outputs": [],
   "source": [
    "def get_tests_and_results_from_model(model_name, model_type):\n",
    "    key = find_latest_s3_file('emmaa', f'results/{model_name}/results_', extension='.json')\n",
    "    client = get_s3_client()\n",
    "    obj = client.get_object(Bucket='emmaa', Key=key)\n",
    "    json_results = json.loads(obj['Body'].read().decode('utf8'))\n",
    "    test_stmts = [Statement._from_json(res['test_json']) for res in json_results[1:]]\n",
    "    unpickler = jsonpickle.unpickler.Unpickler()\n",
    "    test_results = [unpickler.restore(result[model_type]['result_json'])\n",
    "                    for result in json_results[1:]]\n",
    "    model_results = defaultdict(list)\n",
    "    for i, stmt in enumerate(test_stmts):\n",
    "        model_results['Stmt_hash'].append(stmt.get_hash(refresh=True))\n",
    "        model_results[model_name].append(test_results[i].path_found)\n",
    "    return pd.DataFrame(model_results)"
   ]
  },
  {
   "cell_type": "code",
   "execution_count": 20,
   "metadata": {},
   "outputs": [],
   "source": [
    "def get_df_for_model_type(model_type):\n",
    "    df = applied_stmts.copy()\n",
    "    for model in models:\n",
    "        model_df = get_tests_and_results_from_model(model, model_type)\n",
    "        df = df.join(model_df.set_index('Stmt_hash'))\n",
    "    return df"
   ]
  },
  {
   "cell_type": "markdown",
   "metadata": {},
   "source": [
    "For all model types the tests are sorted by number of mofe"
   ]
  },
  {
   "cell_type": "markdown",
   "metadata": {},
   "source": [
    "### PySB"
   ]
  },
  {
   "cell_type": "code",
   "execution_count": 21,
   "metadata": {},
   "outputs": [],
   "source": [
    "pysb_df = get_df_for_model_type('pysb')"
   ]
  },
  {
   "cell_type": "code",
   "execution_count": 23,
   "metadata": {},
   "outputs": [],
   "source": [
    "pysb_df['passed'] = pysb_df[models].sum(axis=1).astype('int64')"
   ]
  },
  {
   "cell_type": "code",
   "execution_count": 24,
   "metadata": {},
   "outputs": [],
   "source": [
    "pysb_df['applied'] = 10 - pysb_df.isnull().sum(axis=1)"
   ]
  },
  {
   "cell_type": "code",
   "execution_count": 26,
   "metadata": {},
   "outputs": [],
   "source": [
    "pysb_df = pysb_df.sort_values(['applied', 'passed'], ascending=[True, True]).reset_index()"
   ]
  },
  {
   "cell_type": "code",
   "execution_count": 34,
   "metadata": {},
   "outputs": [
    {
     "data": {
      "text/html": [
       "<div>\n",
       "<style scoped>\n",
       "    .dataframe tbody tr th:only-of-type {\n",
       "        vertical-align: middle;\n",
       "    }\n",
       "\n",
       "    .dataframe tbody tr th {\n",
       "        vertical-align: top;\n",
       "    }\n",
       "\n",
       "    .dataframe thead th {\n",
       "        text-align: right;\n",
       "    }\n",
       "</style>\n",
       "<table border=\"1\" class=\"dataframe\">\n",
       "  <thead>\n",
       "    <tr style=\"text-align: right;\">\n",
       "      <th></th>\n",
       "      <th>Stmt_hash</th>\n",
       "      <th>Stmt</th>\n",
       "      <th>aml</th>\n",
       "      <th>brca</th>\n",
       "      <th>luad</th>\n",
       "      <th>marm_model</th>\n",
       "      <th>paad</th>\n",
       "      <th>painmachine</th>\n",
       "      <th>prad</th>\n",
       "      <th>rasmachine</th>\n",
       "      <th>rasmodel</th>\n",
       "      <th>skcm</th>\n",
       "      <th>passed</th>\n",
       "      <th>applied</th>\n",
       "    </tr>\n",
       "  </thead>\n",
       "  <tbody>\n",
       "    <tr>\n",
       "      <th>0</th>\n",
       "      <td>4247092595943875</td>\n",
       "      <td>Acetylation(BRMS1(), RELA(), K, 310)</td>\n",
       "      <td>NaN</td>\n",
       "      <td>NaN</td>\n",
       "      <td>NaN</td>\n",
       "      <td>NaN</td>\n",
       "      <td>NaN</td>\n",
       "      <td>False</td>\n",
       "      <td>NaN</td>\n",
       "      <td>NaN</td>\n",
       "      <td>NaN</td>\n",
       "      <td>NaN</td>\n",
       "      <td>0</td>\n",
       "      <td>1</td>\n",
       "    </tr>\n",
       "    <tr>\n",
       "      <th>1</th>\n",
       "      <td>-4690909190760849</td>\n",
       "      <td>Acetylation(SIRT1(catalytic), FOXO(), K)</td>\n",
       "      <td>NaN</td>\n",
       "      <td>False</td>\n",
       "      <td>NaN</td>\n",
       "      <td>NaN</td>\n",
       "      <td>NaN</td>\n",
       "      <td>NaN</td>\n",
       "      <td>NaN</td>\n",
       "      <td>NaN</td>\n",
       "      <td>NaN</td>\n",
       "      <td>NaN</td>\n",
       "      <td>0</td>\n",
       "      <td>1</td>\n",
       "    </tr>\n",
       "    <tr>\n",
       "      <th>2</th>\n",
       "      <td>-12903825413742202</td>\n",
       "      <td>Acetylation(SIRT1(catalytic), Histone_H1())</td>\n",
       "      <td>NaN</td>\n",
       "      <td>NaN</td>\n",
       "      <td>NaN</td>\n",
       "      <td>NaN</td>\n",
       "      <td>NaN</td>\n",
       "      <td>False</td>\n",
       "      <td>NaN</td>\n",
       "      <td>NaN</td>\n",
       "      <td>NaN</td>\n",
       "      <td>NaN</td>\n",
       "      <td>0</td>\n",
       "      <td>1</td>\n",
       "    </tr>\n",
       "    <tr>\n",
       "      <th>3</th>\n",
       "      <td>-33355740378841523</td>\n",
       "      <td>Acetylation(SIRT1(catalytic), Histone_H3(), K, 9)</td>\n",
       "      <td>NaN</td>\n",
       "      <td>NaN</td>\n",
       "      <td>NaN</td>\n",
       "      <td>NaN</td>\n",
       "      <td>NaN</td>\n",
       "      <td>False</td>\n",
       "      <td>NaN</td>\n",
       "      <td>NaN</td>\n",
       "      <td>NaN</td>\n",
       "      <td>NaN</td>\n",
       "      <td>0</td>\n",
       "      <td>1</td>\n",
       "    </tr>\n",
       "    <tr>\n",
       "      <th>4</th>\n",
       "      <td>-33252994353019109</td>\n",
       "      <td>Activation(ABL1(kinase), CDK5(), kinase)</td>\n",
       "      <td>NaN</td>\n",
       "      <td>NaN</td>\n",
       "      <td>NaN</td>\n",
       "      <td>NaN</td>\n",
       "      <td>NaN</td>\n",
       "      <td>False</td>\n",
       "      <td>NaN</td>\n",
       "      <td>NaN</td>\n",
       "      <td>NaN</td>\n",
       "      <td>NaN</td>\n",
       "      <td>0</td>\n",
       "      <td>1</td>\n",
       "    </tr>\n",
       "  </tbody>\n",
       "</table>\n",
       "</div>"
      ],
      "text/plain": [
       "           Stmt_hash                                               Stmt  aml  \\\n",
       "0   4247092595943875               Acetylation(BRMS1(), RELA(), K, 310)  NaN   \n",
       "1  -4690909190760849           Acetylation(SIRT1(catalytic), FOXO(), K)  NaN   \n",
       "2 -12903825413742202        Acetylation(SIRT1(catalytic), Histone_H1())  NaN   \n",
       "3 -33355740378841523  Acetylation(SIRT1(catalytic), Histone_H3(), K, 9)  NaN   \n",
       "4 -33252994353019109           Activation(ABL1(kinase), CDK5(), kinase)  NaN   \n",
       "\n",
       "    brca luad marm_model paad painmachine prad rasmachine rasmodel skcm  \\\n",
       "0    NaN  NaN        NaN  NaN       False  NaN        NaN      NaN  NaN   \n",
       "1  False  NaN        NaN  NaN         NaN  NaN        NaN      NaN  NaN   \n",
       "2    NaN  NaN        NaN  NaN       False  NaN        NaN      NaN  NaN   \n",
       "3    NaN  NaN        NaN  NaN       False  NaN        NaN      NaN  NaN   \n",
       "4    NaN  NaN        NaN  NaN       False  NaN        NaN      NaN  NaN   \n",
       "\n",
       "   passed  applied  \n",
       "0       0        1  \n",
       "1       0        1  \n",
       "2       0        1  \n",
       "3       0        1  \n",
       "4       0        1  "
      ]
     },
     "execution_count": 34,
     "metadata": {},
     "output_type": "execute_result"
    }
   ],
   "source": [
    "pysb_df.head()"
   ]
  },
  {
   "cell_type": "code",
   "execution_count": 36,
   "metadata": {},
   "outputs": [
    {
     "data": {
      "text/plain": [
       "<matplotlib.legend.Legend at 0x1cd7ecd1d0>"
      ]
     },
     "execution_count": 36,
     "metadata": {},
     "output_type": "execute_result"
    },
    {
     "data": {
      "image/png": "[encoded data removed]",
      "text/plain": [
       "<Figure size 1152x576 with 1 Axes>"
      ]
     },
     "metadata": {
      "needs_background": "light"
     },
     "output_type": "display_data"
    }
   ],
   "source": [
    "plt.figure(figsize=(16, 8))\n",
    "plt.plot('applied', data=pysb_df)\n",
    "plt.plot('passed', data=pysb_df)\n",
    "plt.title('Test by number of models they were applied to and passed in PySB')\n",
    "plt.legend()"
   ]
  },
  {
   "cell_type": "markdown",
   "metadata": {},
   "source": [
    "### PyBEL"
   ]
  },
  {
   "cell_type": "code",
   "execution_count": 29,
   "metadata": {},
   "outputs": [],
   "source": [
    "pybel_df = get_df_for_model_type('pybel')"
   ]
  },
  {
   "cell_type": "code",
   "execution_count": 31,
   "metadata": {},
   "outputs": [],
   "source": [
    "pybel_df['passed'] = pybel_df[models].sum(axis=1).astype('int64')\n",
    "pybel_df['applied'] = 10 - pybel_df.isnull().sum(axis=1)\n",
    "pybel_df = pybel_df.sort_values(['applied', 'passed'], ascending=[True, True]).reset_index()"
   ]
  },
  {
   "cell_type": "code",
   "execution_count": 33,
   "metadata": {},
   "outputs": [
    {
     "data": {
      "text/html": [
       "<div>\n",
       "<style scoped>\n",
       "    .dataframe tbody tr th:only-of-type {\n",
       "        vertical-align: middle;\n",
       "    }\n",
       "\n",
       "    .dataframe tbody tr th {\n",
       "        vertical-align: top;\n",
       "    }\n",
       "\n",
       "    .dataframe thead th {\n",
       "        text-align: right;\n",
       "    }\n",
       "</style>\n",
       "<table border=\"1\" class=\"dataframe\">\n",
       "  <thead>\n",
       "    <tr style=\"text-align: right;\">\n",
       "      <th></th>\n",
       "      <th>Stmt_hash</th>\n",
       "      <th>Stmt</th>\n",
       "      <th>aml</th>\n",
       "      <th>brca</th>\n",
       "      <th>luad</th>\n",
       "      <th>marm_model</th>\n",
       "      <th>paad</th>\n",
       "      <th>painmachine</th>\n",
       "      <th>prad</th>\n",
       "      <th>rasmachine</th>\n",
       "      <th>rasmodel</th>\n",
       "      <th>skcm</th>\n",
       "      <th>passed</th>\n",
       "      <th>applied</th>\n",
       "    </tr>\n",
       "  </thead>\n",
       "  <tbody>\n",
       "    <tr>\n",
       "      <th>0</th>\n",
       "      <td>4247092595943875</td>\n",
       "      <td>Acetylation(BRMS1(), RELA(), K, 310)</td>\n",
       "      <td>NaN</td>\n",
       "      <td>NaN</td>\n",
       "      <td>NaN</td>\n",
       "      <td>NaN</td>\n",
       "      <td>NaN</td>\n",
       "      <td>False</td>\n",
       "      <td>NaN</td>\n",
       "      <td>NaN</td>\n",
       "      <td>NaN</td>\n",
       "      <td>NaN</td>\n",
       "      <td>0</td>\n",
       "      <td>1</td>\n",
       "    </tr>\n",
       "    <tr>\n",
       "      <th>1</th>\n",
       "      <td>-4690909190760849</td>\n",
       "      <td>Acetylation(SIRT1(catalytic), FOXO(), K)</td>\n",
       "      <td>NaN</td>\n",
       "      <td>False</td>\n",
       "      <td>NaN</td>\n",
       "      <td>NaN</td>\n",
       "      <td>NaN</td>\n",
       "      <td>NaN</td>\n",
       "      <td>NaN</td>\n",
       "      <td>NaN</td>\n",
       "      <td>NaN</td>\n",
       "      <td>NaN</td>\n",
       "      <td>0</td>\n",
       "      <td>1</td>\n",
       "    </tr>\n",
       "    <tr>\n",
       "      <th>2</th>\n",
       "      <td>-12903825413742202</td>\n",
       "      <td>Acetylation(SIRT1(catalytic), Histone_H1())</td>\n",
       "      <td>NaN</td>\n",
       "      <td>NaN</td>\n",
       "      <td>NaN</td>\n",
       "      <td>NaN</td>\n",
       "      <td>NaN</td>\n",
       "      <td>False</td>\n",
       "      <td>NaN</td>\n",
       "      <td>NaN</td>\n",
       "      <td>NaN</td>\n",
       "      <td>NaN</td>\n",
       "      <td>0</td>\n",
       "      <td>1</td>\n",
       "    </tr>\n",
       "    <tr>\n",
       "      <th>3</th>\n",
       "      <td>-33355740378841523</td>\n",
       "      <td>Acetylation(SIRT1(catalytic), Histone_H3(), K, 9)</td>\n",
       "      <td>NaN</td>\n",
       "      <td>NaN</td>\n",
       "      <td>NaN</td>\n",
       "      <td>NaN</td>\n",
       "      <td>NaN</td>\n",
       "      <td>False</td>\n",
       "      <td>NaN</td>\n",
       "      <td>NaN</td>\n",
       "      <td>NaN</td>\n",
       "      <td>NaN</td>\n",
       "      <td>0</td>\n",
       "      <td>1</td>\n",
       "    </tr>\n",
       "    <tr>\n",
       "      <th>4</th>\n",
       "      <td>-33252994353019109</td>\n",
       "      <td>Activation(ABL1(kinase), CDK5(), kinase)</td>\n",
       "      <td>NaN</td>\n",
       "      <td>NaN</td>\n",
       "      <td>NaN</td>\n",
       "      <td>NaN</td>\n",
       "      <td>NaN</td>\n",
       "      <td>False</td>\n",
       "      <td>NaN</td>\n",
       "      <td>NaN</td>\n",
       "      <td>NaN</td>\n",
       "      <td>NaN</td>\n",
       "      <td>0</td>\n",
       "      <td>1</td>\n",
       "    </tr>\n",
       "  </tbody>\n",
       "</table>\n",
       "</div>"
      ],
      "text/plain": [
       "           Stmt_hash                                               Stmt  aml  \\\n",
       "0   4247092595943875               Acetylation(BRMS1(), RELA(), K, 310)  NaN   \n",
       "1  -4690909190760849           Acetylation(SIRT1(catalytic), FOXO(), K)  NaN   \n",
       "2 -12903825413742202        Acetylation(SIRT1(catalytic), Histone_H1())  NaN   \n",
       "3 -33355740378841523  Acetylation(SIRT1(catalytic), Histone_H3(), K, 9)  NaN   \n",
       "4 -33252994353019109           Activation(ABL1(kinase), CDK5(), kinase)  NaN   \n",
       "\n",
       "    brca luad marm_model paad painmachine prad rasmachine rasmodel skcm  \\\n",
       "0    NaN  NaN        NaN  NaN       False  NaN        NaN      NaN  NaN   \n",
       "1  False  NaN        NaN  NaN         NaN  NaN        NaN      NaN  NaN   \n",
       "2    NaN  NaN        NaN  NaN       False  NaN        NaN      NaN  NaN   \n",
       "3    NaN  NaN        NaN  NaN       False  NaN        NaN      NaN  NaN   \n",
       "4    NaN  NaN        NaN  NaN       False  NaN        NaN      NaN  NaN   \n",
       "\n",
       "   passed  applied  \n",
       "0       0        1  \n",
       "1       0        1  \n",
       "2       0        1  \n",
       "3       0        1  \n",
       "4       0        1  "
      ]
     },
     "execution_count": 33,
     "metadata": {},
     "output_type": "execute_result"
    }
   ],
   "source": [
    "pybel_df.head()"
   ]
  },
  {
   "cell_type": "code",
   "execution_count": 35,
   "metadata": {},
   "outputs": [
    {
     "data": {
      "text/plain": [
       "<matplotlib.legend.Legend at 0x1cc9408f60>"
      ]
     },
     "execution_count": 35,
     "metadata": {},
     "output_type": "execute_result"
    },
    {
     "data": {
      "image/png": "[encoded data removed]",
      "text/plain": [
       "<Figure size 1152x576 with 1 Axes>"
      ]
     },
     "metadata": {
      "needs_background": "light"
     },
     "output_type": "display_data"
    }
   ],
   "source": [
    "plt.figure(figsize=(16, 8))\n",
    "plt.plot('applied', data=pybel_df)\n",
    "plt.plot('passed', data=pybel_df)\n",
    "plt.title('Test by number of models they were applied to and passed in PyBEL')\n",
    "plt.legend()"
   ]
  },
  {
   "cell_type": "markdown",
   "metadata": {},
   "source": [
    "### Signed Graph"
   ]
  },
  {
   "cell_type": "code",
   "execution_count": 37,
   "metadata": {},
   "outputs": [],
   "source": [
    "signed_df = get_df_for_model_type('signed_graph')"
   ]
  },
  {
   "cell_type": "code",
   "execution_count": 38,
   "metadata": {},
   "outputs": [],
   "source": [
    "signed_df['passed'] = signed_df[models].sum(axis=1).astype('int64')\n",
    "signed_df['applied'] = 10 - signed_df.isnull().sum(axis=1)\n",
    "signed_df = signed_df.sort_values(['applied', 'passed'], ascending=[True, True]).reset_index()"
   ]
  },
  {
   "cell_type": "code",
   "execution_count": 39,
   "metadata": {},
   "outputs": [
    {
     "data": {
      "text/html": [
       "<div>\n",
       "<style scoped>\n",
       "    .dataframe tbody tr th:only-of-type {\n",
       "        vertical-align: middle;\n",
       "    }\n",
       "\n",
       "    .dataframe tbody tr th {\n",
       "        vertical-align: top;\n",
       "    }\n",
       "\n",
       "    .dataframe thead th {\n",
       "        text-align: right;\n",
       "    }\n",
       "</style>\n",
       "<table border=\"1\" class=\"dataframe\">\n",
       "  <thead>\n",
       "    <tr style=\"text-align: right;\">\n",
       "      <th></th>\n",
       "      <th>Stmt_hash</th>\n",
       "      <th>Stmt</th>\n",
       "      <th>aml</th>\n",
       "      <th>brca</th>\n",
       "      <th>luad</th>\n",
       "      <th>marm_model</th>\n",
       "      <th>paad</th>\n",
       "      <th>painmachine</th>\n",
       "      <th>prad</th>\n",
       "      <th>rasmachine</th>\n",
       "      <th>rasmodel</th>\n",
       "      <th>skcm</th>\n",
       "      <th>passed</th>\n",
       "      <th>applied</th>\n",
       "    </tr>\n",
       "  </thead>\n",
       "  <tbody>\n",
       "    <tr>\n",
       "      <th>0</th>\n",
       "      <td>4247092595943875</td>\n",
       "      <td>Acetylation(BRMS1(), RELA(), K, 310)</td>\n",
       "      <td>NaN</td>\n",
       "      <td>NaN</td>\n",
       "      <td>NaN</td>\n",
       "      <td>NaN</td>\n",
       "      <td>NaN</td>\n",
       "      <td>False</td>\n",
       "      <td>NaN</td>\n",
       "      <td>NaN</td>\n",
       "      <td>NaN</td>\n",
       "      <td>NaN</td>\n",
       "      <td>0</td>\n",
       "      <td>1</td>\n",
       "    </tr>\n",
       "    <tr>\n",
       "      <th>1</th>\n",
       "      <td>-4690909190760849</td>\n",
       "      <td>Acetylation(SIRT1(catalytic), FOXO(), K)</td>\n",
       "      <td>NaN</td>\n",
       "      <td>False</td>\n",
       "      <td>NaN</td>\n",
       "      <td>NaN</td>\n",
       "      <td>NaN</td>\n",
       "      <td>NaN</td>\n",
       "      <td>NaN</td>\n",
       "      <td>NaN</td>\n",
       "      <td>NaN</td>\n",
       "      <td>NaN</td>\n",
       "      <td>0</td>\n",
       "      <td>1</td>\n",
       "    </tr>\n",
       "    <tr>\n",
       "      <th>2</th>\n",
       "      <td>-12903825413742202</td>\n",
       "      <td>Acetylation(SIRT1(catalytic), Histone_H1())</td>\n",
       "      <td>NaN</td>\n",
       "      <td>NaN</td>\n",
       "      <td>NaN</td>\n",
       "      <td>NaN</td>\n",
       "      <td>NaN</td>\n",
       "      <td>False</td>\n",
       "      <td>NaN</td>\n",
       "      <td>NaN</td>\n",
       "      <td>NaN</td>\n",
       "      <td>NaN</td>\n",
       "      <td>0</td>\n",
       "      <td>1</td>\n",
       "    </tr>\n",
       "    <tr>\n",
       "      <th>3</th>\n",
       "      <td>-33355740378841523</td>\n",
       "      <td>Acetylation(SIRT1(catalytic), Histone_H3(), K, 9)</td>\n",
       "      <td>NaN</td>\n",
       "      <td>NaN</td>\n",
       "      <td>NaN</td>\n",
       "      <td>NaN</td>\n",
       "      <td>NaN</td>\n",
       "      <td>False</td>\n",
       "      <td>NaN</td>\n",
       "      <td>NaN</td>\n",
       "      <td>NaN</td>\n",
       "      <td>NaN</td>\n",
       "      <td>0</td>\n",
       "      <td>1</td>\n",
       "    </tr>\n",
       "    <tr>\n",
       "      <th>4</th>\n",
       "      <td>-33252994353019109</td>\n",
       "      <td>Activation(ABL1(kinase), CDK5(), kinase)</td>\n",
       "      <td>NaN</td>\n",
       "      <td>NaN</td>\n",
       "      <td>NaN</td>\n",
       "      <td>NaN</td>\n",
       "      <td>NaN</td>\n",
       "      <td>False</td>\n",
       "      <td>NaN</td>\n",
       "      <td>NaN</td>\n",
       "      <td>NaN</td>\n",
       "      <td>NaN</td>\n",
       "      <td>0</td>\n",
       "      <td>1</td>\n",
       "    </tr>\n",
       "  </tbody>\n",
       "</table>\n",
       "</div>"
      ],
      "text/plain": [
       "           Stmt_hash                                               Stmt  aml  \\\n",
       "0   4247092595943875               Acetylation(BRMS1(), RELA(), K, 310)  NaN   \n",
       "1  -4690909190760849           Acetylation(SIRT1(catalytic), FOXO(), K)  NaN   \n",
       "2 -12903825413742202        Acetylation(SIRT1(catalytic), Histone_H1())  NaN   \n",
       "3 -33355740378841523  Acetylation(SIRT1(catalytic), Histone_H3(), K, 9)  NaN   \n",
       "4 -33252994353019109           Activation(ABL1(kinase), CDK5(), kinase)  NaN   \n",
       "\n",
       "    brca luad marm_model paad painmachine prad rasmachine rasmodel skcm  \\\n",
       "0    NaN  NaN        NaN  NaN       False  NaN        NaN      NaN  NaN   \n",
       "1  False  NaN        NaN  NaN         NaN  NaN        NaN      NaN  NaN   \n",
       "2    NaN  NaN        NaN  NaN       False  NaN        NaN      NaN  NaN   \n",
       "3    NaN  NaN        NaN  NaN       False  NaN        NaN      NaN  NaN   \n",
       "4    NaN  NaN        NaN  NaN       False  NaN        NaN      NaN  NaN   \n",
       "\n",
       "   passed  applied  \n",
       "0       0        1  \n",
       "1       0        1  \n",
       "2       0        1  \n",
       "3       0        1  \n",
       "4       0        1  "
      ]
     },
     "execution_count": 39,
     "metadata": {},
     "output_type": "execute_result"
    }
   ],
   "source": [
    "signed_df.head()"
   ]
  },
  {
   "cell_type": "code",
   "execution_count": 41,
   "metadata": {},
   "outputs": [
    {
     "data": {
      "text/plain": [
       "<matplotlib.legend.Legend at 0x1cd31e7b70>"
      ]
     },
     "execution_count": 41,
     "metadata": {},
     "output_type": "execute_result"
    },
    {
     "data": {
      "image/png": "[encoded data removed]",
      "text/plain": [
       "<Figure size 1152x576 with 1 Axes>"
      ]
     },
     "metadata": {
      "needs_background": "light"
     },
     "output_type": "display_data"
    }
   ],
   "source": [
    "plt.figure(figsize=(16, 8))\n",
    "plt.plot('applied', data=signed_df)\n",
    "plt.plot('passed', data=signed_df)\n",
    "plt.title('Test by number of models they were applied to and passed in signed graph.')\n",
    "plt.legend()"
   ]
  },
  {
   "cell_type": "code",
   "execution_count": null,
   "metadata": {},
   "outputs": [],
   "source": []
  },
  {
   "cell_type": "code",
   "execution_count": null,
   "metadata": {},
   "outputs": [],
   "source": []
  },
  {
   "cell_type": "markdown",
   "metadata": {},
   "source": [
    "### Unsigned Graph"
   ]
  },
  {
   "cell_type": "code",
   "execution_count": 42,
   "metadata": {},
   "outputs": [],
   "source": [
    "unsigned_df = get_df_for_model_type('unsigned_graph')"
   ]
  },
  {
   "cell_type": "code",
   "execution_count": 43,
   "metadata": {},
   "outputs": [],
   "source": [
    "unsigned_df['passed'] = unsigned_df[models].sum(axis=1).astype('int64')\n",
    "unsigned_df['applied'] = 10 - unsigned_df.isnull().sum(axis=1)\n",
    "unsigned_df = unsigned_df.sort_values(['applied', 'passed'], ascending=[True, True]).reset_index()"
   ]
  },
  {
   "cell_type": "code",
   "execution_count": 44,
   "metadata": {},
   "outputs": [
    {
     "data": {
      "text/html": [
       "<div>\n",
       "<style scoped>\n",
       "    .dataframe tbody tr th:only-of-type {\n",
       "        vertical-align: middle;\n",
       "    }\n",
       "\n",
       "    .dataframe tbody tr th {\n",
       "        vertical-align: top;\n",
       "    }\n",
       "\n",
       "    .dataframe thead th {\n",
       "        text-align: right;\n",
       "    }\n",
       "</style>\n",
       "<table border=\"1\" class=\"dataframe\">\n",
       "  <thead>\n",
       "    <tr style=\"text-align: right;\">\n",
       "      <th></th>\n",
       "      <th>Stmt_hash</th>\n",
       "      <th>Stmt</th>\n",
       "      <th>aml</th>\n",
       "      <th>brca</th>\n",
       "      <th>luad</th>\n",
       "      <th>marm_model</th>\n",
       "      <th>paad</th>\n",
       "      <th>painmachine</th>\n",
       "      <th>prad</th>\n",
       "      <th>rasmachine</th>\n",
       "      <th>rasmodel</th>\n",
       "      <th>skcm</th>\n",
       "      <th>passed</th>\n",
       "      <th>applied</th>\n",
       "    </tr>\n",
       "  </thead>\n",
       "  <tbody>\n",
       "    <tr>\n",
       "      <th>0</th>\n",
       "      <td>-33252994353019109</td>\n",
       "      <td>Activation(ABL1(kinase), CDK5(), kinase)</td>\n",
       "      <td>NaN</td>\n",
       "      <td>NaN</td>\n",
       "      <td>NaN</td>\n",
       "      <td>NaN</td>\n",
       "      <td>NaN</td>\n",
       "      <td>False</td>\n",
       "      <td>NaN</td>\n",
       "      <td>NaN</td>\n",
       "      <td>NaN</td>\n",
       "      <td>NaN</td>\n",
       "      <td>0</td>\n",
       "      <td>1</td>\n",
       "    </tr>\n",
       "    <tr>\n",
       "      <th>1</th>\n",
       "      <td>30705551399043617</td>\n",
       "      <td>Activation(ACVR2A(kinase), SMAD2(), transcript...</td>\n",
       "      <td>NaN</td>\n",
       "      <td>NaN</td>\n",
       "      <td>NaN</td>\n",
       "      <td>NaN</td>\n",
       "      <td>False</td>\n",
       "      <td>NaN</td>\n",
       "      <td>NaN</td>\n",
       "      <td>NaN</td>\n",
       "      <td>NaN</td>\n",
       "      <td>NaN</td>\n",
       "      <td>0</td>\n",
       "      <td>1</td>\n",
       "    </tr>\n",
       "    <tr>\n",
       "      <th>2</th>\n",
       "      <td>-2827220569010000</td>\n",
       "      <td>Activation(AGER(catalytic), inflammatory respo...</td>\n",
       "      <td>NaN</td>\n",
       "      <td>NaN</td>\n",
       "      <td>NaN</td>\n",
       "      <td>NaN</td>\n",
       "      <td>False</td>\n",
       "      <td>NaN</td>\n",
       "      <td>NaN</td>\n",
       "      <td>NaN</td>\n",
       "      <td>NaN</td>\n",
       "      <td>NaN</td>\n",
       "      <td>0</td>\n",
       "      <td>1</td>\n",
       "    </tr>\n",
       "    <tr>\n",
       "      <th>3</th>\n",
       "      <td>-24907111438665284</td>\n",
       "      <td>Activation(BLVRA(kinase), PRKCB(), kinase)</td>\n",
       "      <td>NaN</td>\n",
       "      <td>NaN</td>\n",
       "      <td>NaN</td>\n",
       "      <td>NaN</td>\n",
       "      <td>NaN</td>\n",
       "      <td>False</td>\n",
       "      <td>NaN</td>\n",
       "      <td>NaN</td>\n",
       "      <td>NaN</td>\n",
       "      <td>NaN</td>\n",
       "      <td>0</td>\n",
       "      <td>1</td>\n",
       "    </tr>\n",
       "    <tr>\n",
       "      <th>4</th>\n",
       "      <td>-32681309917118039</td>\n",
       "      <td>Activation(BMP1(), cell differentiation())</td>\n",
       "      <td>NaN</td>\n",
       "      <td>NaN</td>\n",
       "      <td>NaN</td>\n",
       "      <td>NaN</td>\n",
       "      <td>NaN</td>\n",
       "      <td>NaN</td>\n",
       "      <td>NaN</td>\n",
       "      <td>NaN</td>\n",
       "      <td>NaN</td>\n",
       "      <td>False</td>\n",
       "      <td>0</td>\n",
       "      <td>1</td>\n",
       "    </tr>\n",
       "  </tbody>\n",
       "</table>\n",
       "</div>"
      ],
      "text/plain": [
       "           Stmt_hash                                               Stmt  aml  \\\n",
       "0 -33252994353019109           Activation(ABL1(kinase), CDK5(), kinase)  NaN   \n",
       "1  30705551399043617  Activation(ACVR2A(kinase), SMAD2(), transcript...  NaN   \n",
       "2  -2827220569010000  Activation(AGER(catalytic), inflammatory respo...  NaN   \n",
       "3 -24907111438665284         Activation(BLVRA(kinase), PRKCB(), kinase)  NaN   \n",
       "4 -32681309917118039         Activation(BMP1(), cell differentiation())  NaN   \n",
       "\n",
       "  brca luad marm_model   paad painmachine prad rasmachine rasmodel   skcm  \\\n",
       "0  NaN  NaN        NaN    NaN       False  NaN        NaN      NaN    NaN   \n",
       "1  NaN  NaN        NaN  False         NaN  NaN        NaN      NaN    NaN   \n",
       "2  NaN  NaN        NaN  False         NaN  NaN        NaN      NaN    NaN   \n",
       "3  NaN  NaN        NaN    NaN       False  NaN        NaN      NaN    NaN   \n",
       "4  NaN  NaN        NaN    NaN         NaN  NaN        NaN      NaN  False   \n",
       "\n",
       "   passed  applied  \n",
       "0       0        1  \n",
       "1       0        1  \n",
       "2       0        1  \n",
       "3       0        1  \n",
       "4       0        1  "
      ]
     },
     "execution_count": 44,
     "metadata": {},
     "output_type": "execute_result"
    }
   ],
   "source": [
    "unsigned_df.head()"
   ]
  },
  {
   "cell_type": "code",
   "execution_count": 45,
   "metadata": {},
   "outputs": [
    {
     "data": {
      "text/plain": [
       "<matplotlib.legend.Legend at 0x1cca561908>"
      ]
     },
     "execution_count": 45,
     "metadata": {},
     "output_type": "execute_result"
    },
    {
     "data": {
      "image/png": "[encoded data removed]",
      "text/plain": [
       "<Figure size 1152x576 with 1 Axes>"
      ]
     },
     "metadata": {
      "needs_background": "light"
     },
     "output_type": "display_data"
    }
   ],
   "source": [
    "plt.figure(figsize=(16, 8))\n",
    "plt.plot('applied', data=unsigned_df)\n",
    "plt.plot('passed', data=unsigned_df)\n",
    "plt.title('Test by number of models they were applied to and passed in unsigned graph.')\n",
    "plt.legend()"
   ]
  },
  {
   "cell_type": "code",
   "execution_count": null,
   "metadata": {},
   "outputs": [],
   "source": []
  }
 ],
 "metadata": {
  "kernelspec": {
   "display_name": "Python 3",
   "language": "python",
   "name": "python3"
  },
  "language_info": {
   "codemirror_mode": {
    "name": "ipython",
    "version": 3
   },
   "file_extension": ".py",
   "mimetype": "text/x-python",
   "name": "python",
   "nbconvert_exporter": "python",
   "pygments_lexer": "ipython3",
   "version": "3.6.8"
  }
 },
 "nbformat": 4,
 "nbformat_minor": 2
}
